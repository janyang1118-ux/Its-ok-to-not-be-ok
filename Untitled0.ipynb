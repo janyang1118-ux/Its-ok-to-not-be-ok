{
  "nbformat": 4,
  "nbformat_minor": 0,
  "metadata": {
    "colab": {
      "provenance": [],
      "authorship_tag": "ABX9TyMpzCUvRvsJEMwQMyLsh3rg"
    },
    "kernelspec": {
      "name": "python3",
      "display_name": "Python 3"
    },
    "language_info": {
      "name": "python"
    }
  },
  "cells": [
    {
      "cell_type": "code",
      "execution_count": null,
      "metadata": {
        "id": "pCwaxj55Emou"
      },
      "outputs": [],
      "source": [
        "f"
      ]
    }
  ]
}